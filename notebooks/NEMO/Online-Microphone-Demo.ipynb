{
 "cells": [
  {
   "cell_type": "code",
   "execution_count": 6,
   "metadata": {},
   "outputs": [],
   "source": [
    "import numpy as np\n",
    "from nemo.collections.asr.models import EncDecCTCModel\n",
    "from conversational import ASROnlineAudioFrame, speech_to_text_demo"
   ]
  },
  {
   "cell_type": "code",
   "execution_count": 2,
   "metadata": {},
   "outputs": [
    {
     "name": "stdout",
     "output_type": "stream",
     "text": [
      "[NeMo I 2021-01-17 02:31:18 cloud:56] Found existing object /home/ego/.cache/torch/NeMo/NeMo_1.0.0b3/QuartzNet15x5Base-En/00869f9c89b8393ca3de640e0c536bd2/QuartzNet15x5Base-En.nemo.\n",
      "[NeMo I 2021-01-17 02:31:18 cloud:62] Re-using file from: /home/ego/.cache/torch/NeMo/NeMo_1.0.0b3/QuartzNet15x5Base-En/00869f9c89b8393ca3de640e0c536bd2/QuartzNet15x5Base-En.nemo\n",
      "[NeMo I 2021-01-17 02:31:18 common:399] Instantiating model from pre-trained checkpoint\n"
     ]
    },
    {
     "name": "stderr",
     "output_type": "stream",
     "text": [
      "[NeMo W 2021-01-17 02:31:19 nemo_logging:349] /home/ego/anaconda3/envs/ego/lib/python3.7/site-packages/hydra/_internal/utils.py:632: UserWarning: \n",
      "    Config key 'cls' is deprecated since Hydra 1.0 and will be removed in Hydra 1.1.\n",
      "    Use '_target_' instead of 'cls'.\n",
      "    See https://hydra.cc/docs/next/upgrades/0.11_to_1.0/object_instantiation_changes\n",
      "      warnings.warn(message=msg, category=UserWarning)\n",
      "    \n",
      "[NeMo W 2021-01-17 02:31:19 nemo_logging:349] /home/ego/anaconda3/envs/ego/lib/python3.7/site-packages/hydra/_internal/utils.py:577: UserWarning: \n",
      "    Field 'params' is deprecated since Hydra 1.0 and will be removed in Hydra 1.1.\n",
      "    Inline the content of params directly at the containing node.\n",
      "    See https://hydra.cc/docs/next/upgrades/0.11_to_1.0/object_instantiation_changes\n",
      "      warnings.warn(category=UserWarning, message=msg)\n",
      "    \n"
     ]
    },
    {
     "name": "stdout",
     "output_type": "stream",
     "text": [
      "[NeMo I 2021-01-17 02:31:19 features:241] PADDING: 16\n",
      "[NeMo I 2021-01-17 02:31:19 features:258] STFT using torch\n",
      "[NeMo I 2021-01-17 02:31:21 modelPT:257] Model EncDecCTCModel was successfully restored from /home/ego/.cache/torch/NeMo/NeMo_1.0.0b3/QuartzNet15x5Base-En/00869f9c89b8393ca3de640e0c536bd2/QuartzNet15x5Base-En.nemo.\n",
      "[NeMo I 2021-01-17 02:31:21 features:241] PADDING: 0\n",
      "[NeMo I 2021-01-17 02:31:21 features:258] STFT using torch\n"
     ]
    }
   ],
   "source": [
    "# Load the pretrained encoder decoder model.\n",
    "model = EncDecCTCModel.from_pretrained('QuartzNet15x5Base-En')\n",
    "\n",
    "# Initialize the online audio frame for microphone streaming.\n",
    "asr = ASROnlineAudioFrame(\n",
    "    model, offset=1, channels=1, frame_length=1.0, frame_overlap=2,\n",
    ")"
   ]
  },
  {
   "cell_type": "code",
   "execution_count": 5,
   "metadata": {},
   "outputs": [
    {
     "name": "stdout",
     "output_type": "stream",
     "text": [
      "\u001b[38;5;2m✔ Found the following input devices!\u001b[0m\n",
      "\n",
      "ID   Devices                       \n",
      "--   ------------------------------\n",
      "0    HDA Intel PCH: ALC889 Analog (hw:0,0)\n",
      "2    HDA Intel PCH: ALC889 Alt Analog (hw:0,2)\n",
      "11   Microsoft® LifeCam Cinema(TM): USB Audio (hw:2,0)\n",
      "12   sysdefault                    \n",
      "23   samplerate                    \n",
      "24   speexrate                     \n",
      "25   pulse                         \n",
      "26   upmix                         \n",
      "27   vdownmix                      \n",
      "29   default                       \n",
      "\n",
      "\u001b[38;5;4mℹ Please enter the device ID\u001b[0m\n",
      "11\n",
      "two three  four fom one two three four  five call b back indetaa frame ccount time info convversational collection tthe es consistent  original dedecin one two  three \u001b[38;5;3m⚠ WARNING: ASR stream stopped.\u001b[0m\n",
      "\n"
     ]
    }
   ],
   "source": [
    "speech_to_text_demo(asr)"
   ]
  },
  {
   "cell_type": "code",
   "execution_count": null,
   "metadata": {},
   "outputs": [],
   "source": []
  }
 ],
 "metadata": {
  "kernelspec": {
   "display_name": "Python 3",
   "language": "python",
   "name": "python3"
  },
  "language_info": {
   "codemirror_mode": {
    "name": "ipython",
    "version": 3
   },
   "file_extension": ".py",
   "mimetype": "text/x-python",
   "name": "python",
   "nbconvert_exporter": "python",
   "pygments_lexer": "ipython3",
   "version": "3.7.7"
  },
  "varInspector": {
   "cols": {
    "lenName": 16,
    "lenType": 16,
    "lenVar": 40
   },
   "kernels_config": {
    "python": {
     "delete_cmd_postfix": "",
     "delete_cmd_prefix": "del ",
     "library": "var_list.py",
     "varRefreshCmd": "print(var_dic_list())"
    },
    "r": {
     "delete_cmd_postfix": ") ",
     "delete_cmd_prefix": "rm(",
     "library": "var_list.r",
     "varRefreshCmd": "cat(var_dic_list()) "
    }
   },
   "types_to_exclude": [
    "module",
    "function",
    "builtin_function_or_method",
    "instance",
    "_Feature"
   ],
   "window_display": false
  }
 },
 "nbformat": 4,
 "nbformat_minor": 4
}
